{
 "cells": [
  {
   "cell_type": "code",
   "execution_count": 4,
   "metadata": {},
   "outputs": [],
   "source": [
    "import pandas as pd\n",
    "import numpy as np\n",
    "from sklearn import linear_model\n",
    "from sklearn.model_selection import train_test_split"
   ]
  },
  {
   "cell_type": "code",
   "execution_count": 5,
   "metadata": {},
   "outputs": [
    {
     "name": "stderr",
     "output_type": "stream",
     "text": [
      "c:\\Users\\48572\\anaconda3\\lib\\site-packages\\sklearn\\utils\\deprecation.py:87: FutureWarning: Function load_boston is deprecated; `load_boston` is deprecated in 1.0 and will be removed in 1.2.\n",
      "\n",
      "    The Boston housing prices dataset has an ethical problem. You can refer to\n",
      "    the documentation of this function for further details.\n",
      "\n",
      "    The scikit-learn maintainers therefore strongly discourage the use of this\n",
      "    dataset unless the purpose of the code is to study and educate about\n",
      "    ethical issues in data science and machine learning.\n",
      "\n",
      "    In this special case, you can fetch the dataset from the original\n",
      "    source::\n",
      "\n",
      "        import pandas as pd\n",
      "        import numpy as np\n",
      "\n",
      "\n",
      "        data_url = \"http://lib.stat.cmu.edu/datasets/boston\"\n",
      "        raw_df = pd.read_csv(data_url, sep=\"\\s+\", skiprows=22, header=None)\n",
      "        data = np.hstack([raw_df.values[::2, :], raw_df.values[1::2, :2]])\n",
      "        target = raw_df.values[1::2, 2]\n",
      "\n",
      "    Alternative datasets include the California housing dataset (i.e.\n",
      "    :func:`~sklearn.datasets.fetch_california_housing`) and the Ames housing\n",
      "    dataset. You can load the datasets as follows::\n",
      "\n",
      "        from sklearn.datasets import fetch_california_housing\n",
      "        housing = fetch_california_housing()\n",
      "\n",
      "    for the California housing dataset and::\n",
      "\n",
      "        from sklearn.datasets import fetch_openml\n",
      "        housing = fetch_openml(name=\"house_prices\", as_frame=True)\n",
      "\n",
      "    for the Ames housing dataset.\n",
      "    \n",
      "  warnings.warn(msg, category=FutureWarning)\n"
     ]
    }
   ],
   "source": [
    "from sklearn.datasets import load_boston\n",
    "boston_data = load_boston()"
   ]
  },
  {
   "cell_type": "code",
   "execution_count": 6,
   "metadata": {},
   "outputs": [],
   "source": [
    "X = pd.DataFrame (boston_data.data, columns=\n",
    "boston_data.feature_names)\n",
    "Y = pd.DataFrame(boston_data.target)\n"
   ]
  },
  {
   "cell_type": "code",
   "execution_count": 7,
   "metadata": {},
   "outputs": [],
   "source": [
    "x_train, x_test, y_train, y_test = train_test_split(X, Y, test_size = 0.25, random_state=42)"
   ]
  },
  {
   "cell_type": "code",
   "execution_count": 8,
   "metadata": {},
   "outputs": [
    {
     "data": {
      "text/plain": [
       "LinearRegression()"
      ]
     },
     "execution_count": 8,
     "metadata": {},
     "output_type": "execute_result"
    }
   ],
   "source": [
    "lin_reg = linear_model.LinearRegression()\n",
    "lin_reg.fit(x_train, y_train)"
   ]
  },
  {
   "cell_type": "code",
   "execution_count": 10,
   "metadata": {},
   "outputs": [
    {
     "name": "stdout",
     "output_type": "stream",
     "text": [
      "[[-1.28322638e-01  2.95517751e-02  4.88590934e-02  2.77350326e+00\n",
      "  -1.62388292e+01  4.36875476e+00 -9.24808158e-03 -1.40086668e+00\n",
      "   2.57761243e-01 -9.95694820e-03 -9.23122944e-01  1.31854199e-02\n",
      "  -5.17639519e-01]]\n",
      "[[28.83885359]\n",
      " [36.00783288]\n",
      " [15.08324755]\n",
      " [25.23090886]\n",
      " [18.87864064]\n",
      " [23.21398327]\n",
      " [17.5931124 ]\n",
      " [14.30508093]\n",
      " [23.05438985]\n",
      " [20.62008346]\n",
      " [24.78514683]\n",
      " [18.66833668]\n",
      " [-6.9788951 ]\n",
      " [21.83575737]\n",
      " [19.20898992]\n",
      " [26.2868054 ]\n",
      " [20.54379176]\n",
      " [ 5.65713224]\n",
      " [40.42358065]\n",
      " [17.64146116]\n",
      " [27.32258958]\n",
      " [30.05056174]\n",
      " [11.15013704]\n",
      " [24.11530393]\n",
      " [17.89145648]\n",
      " [15.79348591]\n",
      " [22.94743453]\n",
      " [14.2586068 ]\n",
      " [22.26731194]\n",
      " [19.24709013]\n",
      " [22.26897546]\n",
      " [25.24344002]\n",
      " [25.69165643]\n",
      " [17.98759507]\n",
      " [16.70286649]\n",
      " [17.11631225]\n",
      " [31.19643534]\n",
      " [20.17835831]\n",
      " [23.71828436]\n",
      " [24.79196868]\n",
      " [13.94575895]\n",
      " [32.00389982]\n",
      " [42.53869791]\n",
      " [17.44523722]\n",
      " [27.15354457]\n",
      " [17.07482215]\n",
      " [13.89272021]\n",
      " [26.06440323]\n",
      " [20.36888769]\n",
      " [29.97813037]\n",
      " [21.35346608]\n",
      " [34.32287916]\n",
      " [15.88498671]\n",
      " [26.17757739]\n",
      " [39.50970314]\n",
      " [22.84123308]\n",
      " [18.95049088]\n",
      " [32.68913818]\n",
      " [25.02057949]\n",
      " [12.90539147]\n",
      " [22.76052302]\n",
      " [30.53884316]\n",
      " [31.60797905]\n",
      " [15.92162168]\n",
      " [20.50670563]\n",
      " [16.50798147]\n",
      " [20.50202198]\n",
      " [26.00723901]\n",
      " [30.63860954]\n",
      " [11.42877835]\n",
      " [20.53765181]\n",
      " [27.56249175]\n",
      " [10.85162601]\n",
      " [15.96871769]\n",
      " [23.87570192]\n",
      " [ 5.66369672]\n",
      " [21.47818991]\n",
      " [41.2820034 ]\n",
      " [18.56559986]\n",
      " [ 9.08857252]\n",
      " [20.97848452]\n",
      " [13.0630057 ]\n",
      " [20.99054395]\n",
      " [ 9.34050291]\n",
      " [23.13686588]\n",
      " [31.80106627]\n",
      " [19.10245917]\n",
      " [25.59186169]\n",
      " [29.14490119]\n",
      " [20.17571514]\n",
      " [25.5962149 ]\n",
      " [ 5.20301905]\n",
      " [20.16835681]\n",
      " [15.08546746]\n",
      " [12.8601543 ]\n",
      " [20.80904894]\n",
      " [24.68556943]\n",
      " [-0.77450939]\n",
      " [13.33875673]\n",
      " [15.62703156]\n",
      " [22.21755358]\n",
      " [24.58188737]\n",
      " [10.77302163]\n",
      " [19.50068376]\n",
      " [23.23450396]\n",
      " [11.77388822]\n",
      " [18.36777924]\n",
      " [25.4383785 ]\n",
      " [20.89079232]\n",
      " [24.08440617]\n",
      " [ 7.3658717 ]\n",
      " [19.16424347]\n",
      " [21.93734133]\n",
      " [27.41191713]\n",
      " [32.50857196]\n",
      " [14.86885244]\n",
      " [35.05912525]\n",
      " [12.86075113]\n",
      " [20.83043572]\n",
      " [28.42077138]\n",
      " [15.65853688]\n",
      " [24.67196362]\n",
      " [ 3.28420892]\n",
      " [23.79879617]\n",
      " [25.73329894]\n",
      " [23.04815612]\n",
      " [24.73046824]]\n"
     ]
    }
   ],
   "source": [
    "print(lin_reg.coef_)\n",
    "y_pred = lin_reg.predict(x_test)\n",
    "print(y_pred)"
   ]
  },
  {
   "cell_type": "code",
   "execution_count": 11,
   "metadata": {},
   "outputs": [
    {
     "name": "stdout",
     "output_type": "stream",
     "text": [
      "22.098694827098036\n"
     ]
    }
   ],
   "source": [
    "from sklearn.metrics import mean_squared_error\n",
    "print(mean_squared_error(y_test, y_pred))"
   ]
  },
  {
   "cell_type": "code",
   "execution_count": null,
   "metadata": {},
   "outputs": [],
   "source": []
  },
  {
   "cell_type": "code",
   "execution_count": null,
   "metadata": {},
   "outputs": [],
   "source": []
  },
  {
   "cell_type": "code",
   "execution_count": null,
   "metadata": {},
   "outputs": [],
   "source": []
  },
  {
   "cell_type": "code",
   "execution_count": null,
   "metadata": {},
   "outputs": [],
   "source": []
  },
  {
   "cell_type": "code",
   "execution_count": null,
   "metadata": {},
   "outputs": [],
   "source": []
  },
  {
   "cell_type": "code",
   "execution_count": null,
   "metadata": {},
   "outputs": [],
   "source": []
  },
  {
   "cell_type": "code",
   "execution_count": null,
   "metadata": {},
   "outputs": [],
   "source": []
  },
  {
   "cell_type": "code",
   "execution_count": null,
   "metadata": {},
   "outputs": [],
   "source": []
  },
  {
   "cell_type": "code",
   "execution_count": null,
   "metadata": {},
   "outputs": [],
   "source": []
  },
  {
   "cell_type": "code",
   "execution_count": null,
   "metadata": {},
   "outputs": [],
   "source": []
  },
  {
   "cell_type": "code",
   "execution_count": null,
   "metadata": {},
   "outputs": [],
   "source": []
  },
  {
   "cell_type": "code",
   "execution_count": null,
   "metadata": {},
   "outputs": [],
   "source": []
  },
  {
   "cell_type": "code",
   "execution_count": null,
   "metadata": {},
   "outputs": [],
   "source": []
  }
 ],
 "metadata": {
  "kernelspec": {
   "display_name": "base",
   "language": "python",
   "name": "python3"
  },
  "language_info": {
   "codemirror_mode": {
    "name": "ipython",
    "version": 3
   },
   "file_extension": ".py",
   "mimetype": "text/x-python",
   "name": "python",
   "nbconvert_exporter": "python",
   "pygments_lexer": "ipython3",
   "version": "3.9.12"
  },
  "orig_nbformat": 4,
  "vscode": {
   "interpreter": {
    "hash": "80d2b5b0bfd1827d3273d3b17d7957fbcc1c42a1a384f65251eba2c0eecc75ce"
   }
  }
 },
 "nbformat": 4,
 "nbformat_minor": 2
}
