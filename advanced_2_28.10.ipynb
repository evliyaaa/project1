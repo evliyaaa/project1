{
 "cells": [
  {
   "cell_type": "code",
   "execution_count": 2,
   "metadata": {},
   "outputs": [
    {
     "ename": "NameError",
     "evalue": "name 're' is not defined",
     "output_type": "error",
     "traceback": [
      "\u001b[1;31m---------------------------------------------------------------------------\u001b[0m",
      "\u001b[1;31mNameError\u001b[0m                                 Traceback (most recent call last)",
      "\u001b[1;32mc:\\Users\\48572\\Desktop\\python_advansed\\advanced_2_28.10.ipynb Hücre 1\u001b[0m in \u001b[0;36m<cell line: 3>\u001b[1;34m()\u001b[0m\n\u001b[0;32m      <a href='vscode-notebook-cell:/c%3A/Users/48572/Desktop/python_advansed/advanced_2_28.10.ipynb#X40sZmlsZQ%3D%3D?line=0'>1</a>\u001b[0m text \u001b[39m=\u001b[39m \u001b[39m\"\u001b[39m\u001b[39mBugün REGEX konusu isleniyor.\u001b[39m\u001b[39m\"\u001b[39m  \u001b[39m#Türkçe karakterlere dikkat\u001b[39;00m\n\u001b[0;32m      <a href='vscode-notebook-cell:/c%3A/Users/48572/Desktop/python_advansed/advanced_2_28.10.ipynb#X40sZmlsZQ%3D%3D?line=1'>2</a>\u001b[0m pattern \u001b[39m=\u001b[39m \u001b[39m\"\u001b[39m\u001b[39m[a-k, A-K]\u001b[39m\u001b[39m\"\u001b[39m\n\u001b[1;32m----> <a href='vscode-notebook-cell:/c%3A/Users/48572/Desktop/python_advansed/advanced_2_28.10.ipynb#X40sZmlsZQ%3D%3D?line=2'>3</a>\u001b[0m netice \u001b[39m=\u001b[39m re\u001b[39m.\u001b[39mfindall(pattern, text)\n\u001b[0;32m      <a href='vscode-notebook-cell:/c%3A/Users/48572/Desktop/python_advansed/advanced_2_28.10.ipynb#X40sZmlsZQ%3D%3D?line=3'>4</a>\u001b[0m \u001b[39mprint\u001b[39m(netice)\n",
      "\u001b[1;31mNameError\u001b[0m: name 're' is not defined"
     ]
    }
   ],
   "source": [
    "text = \"Bugün REGEX konusu isleniyor.\"  #Türkçe karakterlere dikkat\n",
    "pattern = \"[a-k, A-K]\"\n",
    "netice = re.findall(pattern, text)\n",
    "print(netice)"
   ]
  },
  {
   "cell_type": "markdown",
   "metadata": {},
   "source": [
    "## Global değilmi?"
   ]
  },
  {
   "cell_type": "code",
   "execution_count": 6,
   "metadata": {},
   "outputs": [],
   "source": [
    "a = 55\n",
    "def deneme(x,y):\n",
    "    return x+y"
   ]
  },
  {
   "cell_type": "code",
   "execution_count": 8,
   "metadata": {},
   "outputs": [
    {
     "data": {
      "text/plain": [
       "11"
      ]
     },
     "execution_count": 8,
     "metadata": {},
     "output_type": "execute_result"
    }
   ],
   "source": [
    "a = deneme(5,6)\n",
    "a"
   ]
  },
  {
   "cell_type": "code",
   "execution_count": 11,
   "metadata": {},
   "outputs": [
    {
     "data": {
      "text/plain": [
       "65"
      ]
     },
     "execution_count": 11,
     "metadata": {},
     "output_type": "execute_result"
    }
   ],
   "source": [
    "b = deneme(60,5)\n",
    "b"
   ]
  },
  {
   "cell_type": "code",
   "execution_count": 12,
   "metadata": {},
   "outputs": [],
   "source": [
    "a = 55\n",
    "def deneme(x,y):\n",
    "    a = 25\n",
    "    return x+y+a"
   ]
  },
  {
   "cell_type": "code",
   "execution_count": 14,
   "metadata": {},
   "outputs": [
    {
     "data": {
      "text/plain": [
       "36"
      ]
     },
     "execution_count": 14,
     "metadata": {},
     "output_type": "execute_result"
    }
   ],
   "source": [
    "b = deneme(5,6)\n",
    "b"
   ]
  },
  {
   "cell_type": "code",
   "execution_count": 19,
   "metadata": {},
   "outputs": [],
   "source": [
    "x = set()\n",
    "def fonk():\n",
    "    x.add(10)\n",
    "    return x"
   ]
  },
  {
   "cell_type": "code",
   "execution_count": 20,
   "metadata": {},
   "outputs": [
    {
     "name": "stdout",
     "output_type": "stream",
     "text": [
      "{10}\n"
     ]
    }
   ],
   "source": [
    "print(fonk())"
   ]
  },
  {
   "cell_type": "code",
   "execution_count": 25,
   "metadata": {},
   "outputs": [
    {
     "data": {
      "text/plain": [
       "'Trabi  Özgül'"
      ]
     },
     "execution_count": 25,
     "metadata": {},
     "output_type": "execute_result"
    }
   ],
   "source": [
    "isim = 'Trabi'\n",
    "isim += '  Özgül'\n",
    "#isim.add('Özgül')\n",
    "isim"
   ]
  },
  {
   "cell_type": "code",
   "execution_count": 27,
   "metadata": {},
   "outputs": [
    {
     "ename": "UnboundLocalError",
     "evalue": "local variable 'isim' referenced before assignment",
     "output_type": "error",
     "traceback": [
      "\u001b[1;31m---------------------------------------------------------------------------\u001b[0m",
      "\u001b[1;31mUnboundLocalError\u001b[0m                         Traceback (most recent call last)",
      "\u001b[1;32mc:\\Users\\48572\\Desktop\\python_advansed\\advanced_2_28.10.ipynb Hücre 11\u001b[0m in \u001b[0;36m<cell line: 6>\u001b[1;34m()\u001b[0m\n\u001b[0;32m      <a href='vscode-notebook-cell:/c%3A/Users/48572/Desktop/python_advansed/advanced_2_28.10.ipynb#X24sZmlsZQ%3D%3D?line=2'>3</a>\u001b[0m     isim \u001b[39m+\u001b[39m\u001b[39m=\u001b[39m \u001b[39m'\u001b[39m\u001b[39m  Özgül\u001b[39m\u001b[39m'\u001b[39m\n\u001b[0;32m      <a href='vscode-notebook-cell:/c%3A/Users/48572/Desktop/python_advansed/advanced_2_28.10.ipynb#X24sZmlsZQ%3D%3D?line=3'>4</a>\u001b[0m     \u001b[39mreturn\u001b[39;00m isim\n\u001b[1;32m----> <a href='vscode-notebook-cell:/c%3A/Users/48572/Desktop/python_advansed/advanced_2_28.10.ipynb#X24sZmlsZQ%3D%3D?line=5'>6</a>\u001b[0m \u001b[39mprint\u001b[39m(fonk())\n",
      "\u001b[1;32mc:\\Users\\48572\\Desktop\\python_advansed\\advanced_2_28.10.ipynb Hücre 11\u001b[0m in \u001b[0;36mfonk\u001b[1;34m()\u001b[0m\n\u001b[0;32m      <a href='vscode-notebook-cell:/c%3A/Users/48572/Desktop/python_advansed/advanced_2_28.10.ipynb#X24sZmlsZQ%3D%3D?line=1'>2</a>\u001b[0m \u001b[39mdef\u001b[39;00m \u001b[39mfonk\u001b[39m():\n\u001b[1;32m----> <a href='vscode-notebook-cell:/c%3A/Users/48572/Desktop/python_advansed/advanced_2_28.10.ipynb#X24sZmlsZQ%3D%3D?line=2'>3</a>\u001b[0m     isim \u001b[39m+\u001b[39m\u001b[39m=\u001b[39m \u001b[39m'\u001b[39m\u001b[39m  Özgül\u001b[39m\u001b[39m'\u001b[39m\n\u001b[0;32m      <a href='vscode-notebook-cell:/c%3A/Users/48572/Desktop/python_advansed/advanced_2_28.10.ipynb#X24sZmlsZQ%3D%3D?line=3'>4</a>\u001b[0m     \u001b[39mreturn\u001b[39;00m isim\n",
      "\u001b[1;31mUnboundLocalError\u001b[0m: local variable 'isim' referenced before assignment"
     ]
    }
   ],
   "source": [
    "isim = 'Trabi'\n",
    "def fonk():\n",
    "    isim += '  Özgül'\n",
    "    return isim\n",
    "\n",
    "print(fonk())"
   ]
  },
  {
   "cell_type": "code",
   "execution_count": 28,
   "metadata": {},
   "outputs": [
    {
     "name": "stdout",
     "output_type": "stream",
     "text": [
      "Trabi  Özgül\n"
     ]
    }
   ],
   "source": [
    "isim = 'Trabi'\n",
    "def fonk():\n",
    "    global isim\n",
    "    isim += '  Özgül'\n",
    "    return isim\n",
    "\n",
    "print(fonk())"
   ]
  },
  {
   "cell_type": "code",
   "execution_count": 41,
   "metadata": {},
   "outputs": [],
   "source": [
    "def deneme(x,y):\n",
    "    global f\n",
    "    f = 25\n",
    "    return x+y+f"
   ]
  },
  {
   "cell_type": "code",
   "execution_count": 42,
   "metadata": {},
   "outputs": [
    {
     "data": {
      "text/plain": [
       "55"
      ]
     },
     "execution_count": 42,
     "metadata": {},
     "output_type": "execute_result"
    }
   ],
   "source": [
    "deneme(10,20)"
   ]
  },
  {
   "cell_type": "code",
   "execution_count": 43,
   "metadata": {},
   "outputs": [
    {
     "data": {
      "text/plain": [
       "25"
      ]
     },
     "execution_count": 43,
     "metadata": {},
     "output_type": "execute_result"
    }
   ],
   "source": [
    "deneme(10,20)\n",
    "f"
   ]
  },
  {
   "cell_type": "markdown",
   "metadata": {},
   "source": [
    "## Eval()  ve Exec() "
   ]
  },
  {
   "cell_type": "code",
   "execution_count": 6,
   "metadata": {},
   "outputs": [],
   "source": [
    "ocak=mart=mayis=temmuz=31\n",
    "nisan=haziran=30\n",
    "subat=28"
   ]
  },
  {
   "cell_type": "code",
   "execution_count": 7,
   "metadata": {},
   "outputs": [],
   "source": [
    "donem = input(\"\"\"Hangi aa ait faturayı hesaplamak istersiniz?\n",
    "lütfen a adını tamamı küçük harf..\\n\"\"\")"
   ]
  },
  {
   "cell_type": "code",
   "execution_count": 8,
   "metadata": {},
   "outputs": [
    {
     "name": "stdout",
     "output_type": "stream",
     "text": [
      "subat 28\n"
     ]
    }
   ],
   "source": [
    "ay = eval(donem)\n",
    "print(donem,ay)"
   ]
  },
  {
   "cell_type": "code",
   "execution_count": 10,
   "metadata": {},
   "outputs": [
    {
     "data": {
      "text/plain": [
       "'5+6'"
      ]
     },
     "execution_count": 10,
     "metadata": {},
     "output_type": "execute_result"
    }
   ],
   "source": [
    "'5+6'"
   ]
  },
  {
   "cell_type": "code",
   "execution_count": 11,
   "metadata": {},
   "outputs": [
    {
     "data": {
      "text/plain": [
       "11"
      ]
     },
     "execution_count": 11,
     "metadata": {},
     "output_type": "execute_result"
    }
   ],
   "source": [
    "eval('5+6')"
   ]
  },
  {
   "cell_type": "code",
   "execution_count": 21,
   "metadata": {},
   "outputs": [
    {
     "name": "stdout",
     "output_type": "stream",
     "text": [
      "\n",
      "Basit bir makinesi uygulaması.\n",
      "\n",
      "İşleçler:\n",
      "+ toplama\n",
      "- çıkarma\n",
      "* çarpma\n",
      "/ bölme\n",
      "Yapmak istediğiniz işlemi yazıp enter tuşuna basınız.\n",
      "\n",
      "İşine bak!!\n"
     ]
    },
    {
     "ename": "SyntaxError",
     "evalue": "unexpected EOF while parsing (<string>, line 1)",
     "output_type": "error",
     "traceback": [
      "Traceback \u001b[1;36m(most recent call last)\u001b[0m:\n",
      "  File \u001b[0;32mc:\\Users\\48572\\anaconda3\\lib\\site-packages\\IPython\\core\\interactiveshell.py:3369\u001b[0m in \u001b[0;35mrun_code\u001b[0m\n    exec(code_obj, self.user_global_ns, self.user_ns)\n",
      "\u001b[1;36m  Input \u001b[1;32mIn [21]\u001b[1;36m in \u001b[1;35m<cell line: 18>\u001b[1;36m\u001b[0m\n\u001b[1;33m    hesap = eval(veri)\u001b[0m\n",
      "\u001b[1;36m  File \u001b[1;32m<string>:1\u001b[1;36m\u001b[0m\n\u001b[1;33m    open..\u001b[0m\n\u001b[1;37m         ^\u001b[0m\n\u001b[1;31mSyntaxError\u001b[0m\u001b[1;31m:\u001b[0m unexpected EOF while parsing\n"
     ]
    }
   ],
   "source": [
    "izinler = \"0123456789+/-*\"\n",
    "print(\"\"\"\n",
    "Basit bir makinesi uygulaması.\n",
    "\n",
    "İşleçler:\n",
    "+ toplama\n",
    "- çıkarma\n",
    "* çarpma\n",
    "/ bölme\n",
    "Yapmak istediğiniz işlemi yazıp enter tuşuna basınız.\n",
    "\"\"\")\n",
    "\n",
    "veri = input(\"İşleminiz: \")\n",
    "for s in veri:\n",
    "    if s not in izinler:\n",
    "        print(\"İşine bak!!\")\n",
    "        break\n",
    "hesap = eval(veri)\n",
    "print(hesap)"
   ]
  },
  {
   "cell_type": "code",
   "execution_count": 14,
   "metadata": {},
   "outputs": [
    {
     "data": {
      "text/plain": [
       "str"
      ]
     },
     "execution_count": 14,
     "metadata": {},
     "output_type": "execute_result"
    }
   ],
   "source": [
    "type(veri)"
   ]
  },
  {
   "cell_type": "markdown",
   "metadata": {},
   "source": [
    "## Eval() -< > kullanmak tehlikeli olabilir. bu yuzden izin verecek olduğunuz işemleri belirtip vermeniz lazım yoksa kullanıcıya daha fazla iş yapmaya ve sizin bilgilerinize ulaşmasına izin verir."
   ]
  },
  {
   "cell_type": "code",
   "execution_count": 22,
   "metadata": {},
   "outputs": [
    {
     "ename": "SyntaxError",
     "evalue": "invalid syntax (<string>, line 1)",
     "output_type": "error",
     "traceback": [
      "Traceback \u001b[1;36m(most recent call last)\u001b[0m:\n",
      "  File \u001b[0;32mc:\\Users\\48572\\anaconda3\\lib\\site-packages\\IPython\\core\\interactiveshell.py:3369\u001b[0m in \u001b[0;35mrun_code\u001b[0m\n    exec(code_obj, self.user_global_ns, self.user_ns)\n",
      "\u001b[1;36m  Input \u001b[1;32mIn [22]\u001b[1;36m in \u001b[1;35m<cell line: 1>\u001b[1;36m\u001b[0m\n\u001b[1;33m    eval('a=45')\u001b[0m\n",
      "\u001b[1;36m  File \u001b[1;32m<string>:1\u001b[1;36m\u001b[0m\n\u001b[1;33m    a=45\u001b[0m\n\u001b[1;37m     ^\u001b[0m\n\u001b[1;31mSyntaxError\u001b[0m\u001b[1;31m:\u001b[0m invalid syntax\n"
     ]
    }
   ],
   "source": [
    "eval('a=45')\n"
   ]
  },
  {
   "cell_type": "code",
   "execution_count": 25,
   "metadata": {},
   "outputs": [
    {
     "data": {
      "text/plain": [
       "45"
      ]
     },
     "execution_count": 25,
     "metadata": {},
     "output_type": "execute_result"
    }
   ],
   "source": [
    "exec('a=45')\n",
    "a"
   ]
  },
  {
   "cell_type": "code",
   "execution_count": 28,
   "metadata": {},
   "outputs": [
    {
     "name": "stdout",
     "output_type": "stream",
     "text": [
      "Merhaba\n",
      "\n",
      "Gördüğünüz gibi print() fonksiyonu, kendisine parametre olarak verilen değerlere ekrana basar\n",
      "\n"
     ]
    }
   ],
   "source": [
    "d1 = \"\"\"\n",
    "Python'da ekran çıktısı verebilmek için print() adlı bir fonksiyondan yararlanıyoruz. Bu fonksiyonu söyle kullanabilirsiniz:\n",
    ">>>print(\"Hello World\")\n",
    "Şimdi de siz aynı kodu yazın\n",
    "\"\"\"\n",
    "girdi = input(d1)\n",
    "\n",
    "exec(girdi)\n",
    "\n",
    "d2 = \"\"\"\n",
    "Gördüğünüz gibi print() fonksiyonu, kendisine parametre olarak verilen değerlere ekrana basar\n",
    "\"\"\"\n",
    "\n",
    "print(d2)"
   ]
  },
  {
   "cell_type": "code",
   "execution_count": 32,
   "metadata": {},
   "outputs": [
    {
     "ename": "IndexError",
     "evalue": "Replacement index 9 out of range for positional args tuple",
     "output_type": "error",
     "traceback": [
      "\u001b[1;31m---------------------------------------------------------------------------\u001b[0m",
      "\u001b[1;31mIndexError\u001b[0m                                Traceback (most recent call last)",
      "\u001b[1;32mc:\\Users\\48572\\Desktop\\python_advansed\\advanced_2_28.10.ipynb Hücre 28\u001b[0m in \u001b[0;36m<cell line: 36>\u001b[1;34m()\u001b[0m\n\u001b[0;32m     <a href='vscode-notebook-cell:/c%3A/Users/48572/Desktop/python_advansed/advanced_2_28.10.ipynb#Y102sZmlsZQ%3D%3D?line=32'>33</a>\u001b[0m adres \u001b[39m=\u001b[39m \u001b[39minput\u001b[39m(\u001b[39m\"\u001b[39m\u001b[39madress gir\u001b[39m\u001b[39m\"\u001b[39m)\n\u001b[0;32m     <a href='vscode-notebook-cell:/c%3A/Users/48572/Desktop/python_advansed/advanced_2_28.10.ipynb#Y102sZmlsZQ%3D%3D?line=33'>34</a>\u001b[0m tel \u001b[39m=\u001b[39m \u001b[39minput\u001b[39m(\u001b[39m\"\u001b[39m\u001b[39mtel no :\u001b[39m\u001b[39m\"\u001b[39m)\n\u001b[1;32m---> <a href='vscode-notebook-cell:/c%3A/Users/48572/Desktop/python_advansed/advanced_2_28.10.ipynb#Y102sZmlsZQ%3D%3D?line=35'>36</a>\u001b[0m \u001b[39mprint\u001b[39m(dilekçe\u001b[39m.\u001b[39;49mformat(tarih, üniversite, fakülte, bölüm, öğrenci_no, öğretim_yılı, ad, soyad, adres))\n",
      "\u001b[1;31mIndexError\u001b[0m: Replacement index 9 out of range for positional args tuple"
     ]
    }
   ],
   "source": [
    "dilekçe = \"\"\"                             tarih: {}\n",
    "\n",
    "\n",
    "\n",
    "\n",
    "T.C.\n",
    "{} Üniversitesi\n",
    "{} Fakültesi deknlığına\n",
    "\n",
    "Fakülteniz {} Bölümü {} numaralı öğrencisiyim. Ekte sunduğum belgede belirtilen mazeretim gereğince {} EĞitim-Öğretim Yılı {}.\n",
    "yarıyılında öğrenime ara izni (kayıt dondurma) istiyorum.\n",
    "\n",
    "    Bilgilerinizi ve gereğini arz ederim.\n",
    "    \n",
    "    İmza\n",
    "Ad           : {}\n",
    "Soyad        : {}\n",
    "T:C Kimlik No: {}\n",
    "Adres        : {}\n",
    "tel.         : {}\n",
    "\n",
    "\"\"\"\n",
    "\n",
    "\n",
    "tarih = input(\"tarih: \")\n",
    "üniversite = input(\"ünversite adı: \")\n",
    "fakülte = input(\"fakülte adı: \")\n",
    "bölüm = input(\"bölüm: \")\n",
    "öğrenci_no = input(\"öğrenci no: \")\n",
    "öğretim_yılı = input(\"öğretim yılı: \")\n",
    "ad = input(\"öğrencinin adı:\")\n",
    "soyad = input(\"soyadı gir\")\n",
    "adres = input(\"adress gir\")\n",
    "tel = input(\"tel no :\")\n",
    "\n",
    "print(dilekçe.format(tarih, üniversite, fakülte, bölüm, öğrenci_no, öğretim_yılı, ad, soyad, adres))"
   ]
  },
  {
   "cell_type": "markdown",
   "metadata": {},
   "source": [
    "### Template\n",
    "\n"
   ]
  },
  {
   "cell_type": "code",
   "execution_count": 35,
   "metadata": {},
   "outputs": [
    {
     "name": "stdout",
     "output_type": "stream",
     "text": [
      "template=Sayın Ayşe Hanımefendi \n",
      "date tarihinde yapmış olduğunuz,\n",
      "\n",
      "\n",
      "iş ile ilgili başvurunuz onaylanmıştır. İşe alındınız\n",
      "\n"
     ]
    }
   ],
   "source": [
    "from string import Template\n",
    "text = Template(\"\"\"template=Sayın $name Hanımefendi \\ndate tarihinde yapmış olduğunuz,\n",
    "\n",
    "\\n$konu ile ilgili başvurunuz onaylanmıştır. İşe alındınız\n",
    "\"\"\")\n",
    "\n",
    "sonuc=text.substitute(name=\"Ayşe\", date=\"April,2022\", konu=\"iş\")\n",
    "print(sonuc)"
   ]
  },
  {
   "cell_type": "code",
   "execution_count": null,
   "metadata": {},
   "outputs": [],
   "source": [
    "giriş =\"\"\"\n",
    "(1)toplama\n",
    "(2) çıkar\n",
    "(3) çarp\n",
    "(4) böl\n",
    "(5) karesini hesapla\n",
    "(6) kök hesapla\n",
    ")"
   ]
  },
  {
   "cell_type": "code",
   "execution_count": 37,
   "metadata": {},
   "outputs": [
    {
     "ename": "TypeError",
     "evalue": "'str' object is not callable",
     "output_type": "error",
     "traceback": [
      "\u001b[1;31m---------------------------------------------------------------------------\u001b[0m",
      "\u001b[1;31mTypeError\u001b[0m                                 Traceback (most recent call last)",
      "\u001b[1;32mc:\\Users\\48572\\Desktop\\python_advansed\\advanced_2_28.10.ipynb Hücre 32\u001b[0m in \u001b[0;36m<cell line: 2>\u001b[1;34m()\u001b[0m\n\u001b[0;32m      <a href='vscode-notebook-cell:/c%3A/Users/48572/Desktop/python_advansed/advanced_2_28.10.ipynb#X65sZmlsZQ%3D%3D?line=0'>1</a>\u001b[0m \u001b[39mfrom\u001b[39;00m \u001b[39mstring\u001b[39;00m \u001b[39mimport\u001b[39;00m printable\n\u001b[1;32m----> <a href='vscode-notebook-cell:/c%3A/Users/48572/Desktop/python_advansed/advanced_2_28.10.ipynb#X65sZmlsZQ%3D%3D?line=1'>2</a>\u001b[0m text \u001b[39m=\u001b[39m printable(\u001b[39m\"\"\"\u001b[39;49m\u001b[39m Sayın $name Beyefendi \u001b[39;49m\u001b[39m\\n\u001b[39;49;00m\u001b[39mdate tarihinde yapış olduğunuz işleminiz kabul edilmiştir\u001b[39;49m\u001b[39m\"\"\"\u001b[39;49m)\n\u001b[0;32m      <a href='vscode-notebook-cell:/c%3A/Users/48572/Desktop/python_advansed/advanced_2_28.10.ipynb#X65sZmlsZQ%3D%3D?line=2'>3</a>\u001b[0m sonuc\u001b[39m=\u001b[39mtext\u001b[39m.\u001b[39msubstitute(name\u001b[39m=\u001b[39m\u001b[39m23\u001b[39m, date\u001b[39m=\u001b[39m\u001b[39m2022\u001b[39m)\n\u001b[0;32m      <a href='vscode-notebook-cell:/c%3A/Users/48572/Desktop/python_advansed/advanced_2_28.10.ipynb#X65sZmlsZQ%3D%3D?line=3'>4</a>\u001b[0m \u001b[39mprint\u001b[39m(sonuc)\n",
      "\u001b[1;31mTypeError\u001b[0m: 'str' object is not callable"
     ]
    }
   ],
   "source": [
    "from string import printable\n",
    "text = printable(\"\"\" Sayın $name Beyefendi \\ndate tarihinde yapış olduğunuz işleminiz kabul edilmiştir\"\"\")\n",
    "sonuc=text.substitute(name=23, date=2022)\n",
    "print(sonuc)"
   ]
  },
  {
   "cell_type": "markdown",
   "metadata": {},
   "source": [
    "#### list comprehension,  lambda, map, filter fonksiyonları"
   ]
  },
  {
   "cell_type": "code",
   "execution_count": 38,
   "metadata": {},
   "outputs": [
    {
     "name": "stdout",
     "output_type": "stream",
     "text": [
      "[1, 4, 25, 100, 400, 900]\n"
     ]
    }
   ],
   "source": [
    "l = [1,2,5,10,20,30]\n",
    "new=[]\n",
    "for i in l:\n",
    "    new.append(i**2)\n",
    "print(new)\n"
   ]
  },
  {
   "cell_type": "code",
   "execution_count": 42,
   "metadata": {},
   "outputs": [
    {
     "data": {
      "text/plain": [
       "[1, 4, 25, 100, 400, 900]"
      ]
     },
     "execution_count": 42,
     "metadata": {},
     "output_type": "execute_result"
    }
   ],
   "source": [
    "[ i**2 for i in l]\n"
   ]
  },
  {
   "cell_type": "code",
   "execution_count": 43,
   "metadata": {},
   "outputs": [
    {
     "data": {
      "text/plain": [
       "[1.0,\n",
       " 1.4142135623730951,\n",
       " 2.23606797749979,\n",
       " 3.1622776601683795,\n",
       " 4.47213595499958,\n",
       " 5.477225575051661]"
      ]
     },
     "execution_count": 43,
     "metadata": {},
     "output_type": "execute_result"
    }
   ],
   "source": [
    "[ i**(1/2) for i in l]"
   ]
  },
  {
   "cell_type": "code",
   "execution_count": 46,
   "metadata": {},
   "outputs": [],
   "source": [
    "def cift_sayı(x):\n",
    "    if x%2 == 0:\n",
    "        return x\n",
    "    else:\n",
    "        None"
   ]
  },
  {
   "cell_type": "code",
   "execution_count": 50,
   "metadata": {},
   "outputs": [
    {
     "data": {
      "text/plain": [
       "60"
      ]
     },
     "execution_count": 50,
     "metadata": {},
     "output_type": "execute_result"
    }
   ],
   "source": [
    "cift_sayı(60)"
   ]
  },
  {
   "cell_type": "code",
   "execution_count": 54,
   "metadata": {},
   "outputs": [],
   "source": [
    "def tek_sayı(x):\n",
    "    return x if x%2!=0 else None"
   ]
  },
  {
   "cell_type": "code",
   "execution_count": 55,
   "metadata": {},
   "outputs": [
    {
     "data": {
      "text/plain": [
       "68"
      ]
     },
     "execution_count": 55,
     "metadata": {},
     "output_type": "execute_result"
    }
   ],
   "source": [
    "cift_sayı(88)"
   ]
  },
  {
   "cell_type": "code",
   "execution_count": 57,
   "metadata": {},
   "outputs": [],
   "source": [
    "tek_sayı(60)"
   ]
  },
  {
   "cell_type": "code",
   "execution_count": 66,
   "metadata": {},
   "outputs": [],
   "source": [
    "myl = [ i for i in range (1,101) if i%2 !=0 ]"
   ]
  },
  {
   "cell_type": "code",
   "execution_count": 70,
   "metadata": {},
   "outputs": [
    {
     "name": "stdout",
     "output_type": "stream",
     "text": [
      "[0, 0, 2, 0, 3, 6]\n"
     ]
    }
   ],
   "source": [
    "list = [z*y for z in range(4) for y in range(3) if z>y]\n",
    "print(list)"
   ]
  },
  {
   "cell_type": "code",
   "execution_count": 78,
   "metadata": {},
   "outputs": [
    {
     "data": {
      "text/plain": [
       "[4, 3, 16, 5, 3, 16, 5, 36, 16, 5, 36, 7]"
      ]
     },
     "execution_count": 78,
     "metadata": {},
     "output_type": "execute_result"
    }
   ],
   "source": [
    "[x+y if (x+y) % 2 else (x+y) ** 2 for x in (1,2,3) for y in (1,2,3,4)]"
   ]
  },
  {
   "cell_type": "code",
   "execution_count": 79,
   "metadata": {},
   "outputs": [
    {
     "name": "stdout",
     "output_type": "stream",
     "text": [
      "['Hi  Ali', 'Hi  Veli', 'Hi  Bob']\n"
     ]
    }
   ],
   "source": [
    "l = [(\"Hi  \"+x) for x in [\"Ali\", \"Veli\", \"Bob\"]]\n",
    "print(l)"
   ]
  },
  {
   "cell_type": "code",
   "execution_count": 85,
   "metadata": {},
   "outputs": [
    {
     "name": "stdout",
     "output_type": "stream",
     "text": [
      "['99087114458_Transkript (4)_221019_194341.pdf', 'Application - Ovluyaguly Udayev.pdf', 'chapter4.pdf', 'Doğuluş Şahadatnama.pdf', 'ITF-DAY-01.pdf', 'ITF-DAY-02.pdf', 'ITF-DAY-03.pdf', 'ITF-Day-04.pdf', 'ITF-Day-05.pdf', 'NAtional ID Turkey.pdf', 'Ovluyaguly Udayev.pdf', 'Pasport_2412_221008_011529_221025_143652.pdf', 'python .pdf', 'python TR anlatım-1.pdf', 'python TR anlatım-2.pdf', 'python tutorial.pdf', 'Rayatlyk pAsport.pdf', 'Student ıD.pdf', 'Upoważnienie.pdf', 'vekaletname-tasdiki.pdf', 'ynanç haty arza.pdf', 'ynanç haty. Udayev.pdf']\n"
     ]
    }
   ],
   "source": [
    "import os\n",
    "dosyalar = []\n",
    "for d in os.listdir(r\"C:\\Users\\48572\\Downloads\"):\n",
    "    if d.endswith(\".pdf\"):\n",
    "        dosyalar.append(d)\n",
    "print(dosyalar)"
   ]
  },
  {
   "cell_type": "code",
   "execution_count": 86,
   "metadata": {},
   "outputs": [],
   "source": [
    "dosyalar1 = [d for d in os.listdir(r\"C:\\Users\\48572\\Downloads\") if d.endswith(\".pdf\")]"
   ]
  },
  {
   "cell_type": "code",
   "execution_count": 87,
   "metadata": {},
   "outputs": [
    {
     "data": {
      "text/plain": [
       "['99087114458_Transkript (4)_221019_194341.pdf',\n",
       " 'Application - Ovluyaguly Udayev.pdf',\n",
       " 'chapter4.pdf',\n",
       " 'Doğuluş Şahadatnama.pdf',\n",
       " 'ITF-DAY-01.pdf',\n",
       " 'ITF-DAY-02.pdf',\n",
       " 'ITF-DAY-03.pdf',\n",
       " 'ITF-Day-04.pdf',\n",
       " 'ITF-Day-05.pdf',\n",
       " 'NAtional ID Turkey.pdf',\n",
       " 'Ovluyaguly Udayev.pdf',\n",
       " 'Pasport_2412_221008_011529_221025_143652.pdf',\n",
       " 'python .pdf',\n",
       " 'python TR anlatım-1.pdf',\n",
       " 'python TR anlatım-2.pdf',\n",
       " 'python tutorial.pdf',\n",
       " 'Rayatlyk pAsport.pdf',\n",
       " 'Student ıD.pdf',\n",
       " 'Upoważnienie.pdf',\n",
       " 'vekaletname-tasdiki.pdf',\n",
       " 'ynanç haty arza.pdf',\n",
       " 'ynanç haty. Udayev.pdf']"
      ]
     },
     "execution_count": 87,
     "metadata": {},
     "output_type": "execute_result"
    }
   ],
   "source": [
    "dosyalar1"
   ]
  },
  {
   "cell_type": "code",
   "execution_count": 88,
   "metadata": {},
   "outputs": [],
   "source": [
    "fonk = lambda param1, param2: param1+param2"
   ]
  },
  {
   "cell_type": "code",
   "execution_count": 89,
   "metadata": {},
   "outputs": [
    {
     "data": {
      "text/plain": [
       "30"
      ]
     },
     "execution_count": 89,
     "metadata": {},
     "output_type": "execute_result"
    }
   ],
   "source": [
    "fonk(5,25)"
   ]
  },
  {
   "cell_type": "code",
   "execution_count": 90,
   "metadata": {},
   "outputs": [
    {
     "data": {
      "text/plain": [
       "True"
      ]
     },
     "execution_count": 90,
     "metadata": {},
     "output_type": "execute_result"
    }
   ],
   "source": [
    "cift_mi = lambda sayi:sayi % 2 == 0\n",
    "cift_mi(100)"
   ]
  },
  {
   "cell_type": "code",
   "execution_count": 92,
   "metadata": {},
   "outputs": [
    {
     "name": "stdout",
     "output_type": "stream",
     "text": [
      "84\n"
     ]
    }
   ],
   "source": [
    "carpma = lambda x,y,z : x*y*z\n",
    "print(carpma(3,4,7))"
   ]
  },
  {
   "cell_type": "code",
   "execution_count": 93,
   "metadata": {},
   "outputs": [],
   "source": [
    "c = lambda x: x**2"
   ]
  },
  {
   "cell_type": "code",
   "execution_count": 94,
   "metadata": {},
   "outputs": [
    {
     "data": {
      "text/plain": [
       "16"
      ]
     },
     "execution_count": 94,
     "metadata": {},
     "output_type": "execute_result"
    }
   ],
   "source": [
    "c(4)"
   ]
  },
  {
   "cell_type": "code",
   "execution_count": 96,
   "metadata": {},
   "outputs": [],
   "source": [
    "def  myfunc(n):\n",
    "    return lambda a : a*n"
   ]
  },
  {
   "cell_type": "code",
   "execution_count": 98,
   "metadata": {},
   "outputs": [
    {
     "data": {
      "text/plain": [
       "84"
      ]
     },
     "execution_count": 98,
     "metadata": {},
     "output_type": "execute_result"
    }
   ],
   "source": [
    "k = myfunc(42)\n",
    "b = k(2)\n",
    "b"
   ]
  },
  {
   "cell_type": "code",
   "execution_count": 112,
   "metadata": {},
   "outputs": [
    {
     "data": {
      "text/plain": [
       "[2, 4, 6, 8, 10, 12, 14, 16, 18]"
      ]
     },
     "execution_count": 112,
     "metadata": {},
     "output_type": "execute_result"
    }
   ],
   "source": [
    "\n",
    "[*(map (lambda x: x*2, range(1,10)))]\n",
    "# map(fonk, liste)"
   ]
  },
  {
   "cell_type": "code",
   "execution_count": 116,
   "metadata": {},
   "outputs": [],
   "source": [
    "x = lambda x: x*2, range(1,10)"
   ]
  },
  {
   "cell_type": "code",
   "execution_count": null,
   "metadata": {},
   "outputs": [],
   "source": []
  },
  {
   "cell_type": "code",
   "execution_count": null,
   "metadata": {},
   "outputs": [],
   "source": []
  },
  {
   "cell_type": "code",
   "execution_count": null,
   "metadata": {},
   "outputs": [],
   "source": []
  },
  {
   "cell_type": "code",
   "execution_count": null,
   "metadata": {},
   "outputs": [],
   "source": []
  },
  {
   "cell_type": "code",
   "execution_count": null,
   "metadata": {},
   "outputs": [],
   "source": []
  },
  {
   "cell_type": "code",
   "execution_count": null,
   "metadata": {},
   "outputs": [],
   "source": []
  },
  {
   "cell_type": "code",
   "execution_count": null,
   "metadata": {},
   "outputs": [],
   "source": []
  },
  {
   "cell_type": "code",
   "execution_count": null,
   "metadata": {},
   "outputs": [],
   "source": []
  },
  {
   "cell_type": "code",
   "execution_count": null,
   "metadata": {},
   "outputs": [],
   "source": []
  },
  {
   "cell_type": "code",
   "execution_count": null,
   "metadata": {},
   "outputs": [],
   "source": []
  },
  {
   "cell_type": "code",
   "execution_count": null,
   "metadata": {},
   "outputs": [],
   "source": []
  },
  {
   "cell_type": "code",
   "execution_count": null,
   "metadata": {},
   "outputs": [],
   "source": []
  }
 ],
 "metadata": {
  "kernelspec": {
   "display_name": "base",
   "language": "python",
   "name": "python3"
  },
  "language_info": {
   "codemirror_mode": {
    "name": "ipython",
    "version": 3
   },
   "file_extension": ".py",
   "mimetype": "text/x-python",
   "name": "python",
   "nbconvert_exporter": "python",
   "pygments_lexer": "ipython3",
   "version": "3.9.12"
  },
  "orig_nbformat": 4,
  "vscode": {
   "interpreter": {
    "hash": "80d2b5b0bfd1827d3273d3b17d7957fbcc1c42a1a384f65251eba2c0eecc75ce"
   }
  }
 },
 "nbformat": 4,
 "nbformat_minor": 2
}
